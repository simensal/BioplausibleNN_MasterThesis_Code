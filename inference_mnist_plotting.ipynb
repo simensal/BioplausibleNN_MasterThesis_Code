{
 "cells": [
  {
   "cell_type": "code",
   "execution_count": 2,
   "metadata": {},
   "outputs": [],
   "source": [
    "import pandas as pd\n",
    "import numpy as np\n",
    "import matplotlib.pyplot as plt"
   ]
  },
  {
   "cell_type": "code",
   "execution_count": 3,
   "metadata": {},
   "outputs": [],
   "source": [
    "class AnalysisSettings():\n",
    "    def __init__(self, dataset) -> None:\n",
    "        self.dataset = dataset\n",
    "        match self.dataset:\n",
    "            case 'iris':\n",
    "                self.label_pos = 4\n",
    "                self.attribute_pos = [0, 1, 2, 3]\n",
    "            case 'wine':\n",
    "                self.label_pos = 0\n",
    "                self.attribute_pos = [1, 2, 3, 4, 5, 6, 7, 8, 9, 10, 11, 12]\n",
    "            case 'mnist':\n",
    "                self.label_pos = 0\n",
    "                self.attribute_pos = [i for i in range(1, 785)]\n",
    "            "
   ]
  },
  {
   "cell_type": "code",
   "execution_count": 4,
   "metadata": {},
   "outputs": [],
   "source": [
    "# Load data from dataset\n",
    "settings = AnalysisSettings('mnist')\n",
    "\n",
    "load_path = './experiments/inference/results/' + settings.dataset + '/'\n",
    "org_dataset = pd.read_csv(load_path + 'original.csv', index_col=0)"
   ]
  },
  {
   "attachments": {},
   "cell_type": "markdown",
   "metadata": {},
   "source": [
    "## Plotting samples of disturbed data"
   ]
  },
  {
   "cell_type": "code",
   "execution_count": 40,
   "metadata": {},
   "outputs": [],
   "source": [
    "sparsity = 0.05\n",
    "\n",
    "# Load data and mask from dataset with sparsity\n",
    "mask = pd.read_csv(load_path + str(sparsity) + '/mask.csv', index_col=0)\n",
    "masked_dataset = org_dataset.drop(['label'], axis=1) * ~mask"
   ]
  },
  {
   "cell_type": "code",
   "execution_count": 42,
   "metadata": {},
   "outputs": [],
   "source": [
    "# Replacing the masked values with the middle values of the max possible values\n",
    "masked_dataset[mask] = 256 / 2\n"
   ]
  },
  {
   "cell_type": "code",
   "execution_count": 73,
   "metadata": {},
   "outputs": [],
   "source": [
    "# Loading the reconstructed datasets from pcn and knn\n",
    "pcn_dataset = pd.read_csv(load_path + str(sparsity) + '/pcn.csv', index_col=0)\n",
    "knn_dataset = pd.read_csv(load_path + str(sparsity) + '/knn.csv', index_col=0)\n",
    "\n",
    "pcn_samples = pcn_dataset.drop(['label'], axis=1)\n",
    "knn_samples = knn_dataset.drop(['label'], axis=1)"
   ]
  },
  {
   "cell_type": "code",
   "execution_count": 76,
   "metadata": {},
   "outputs": [
    {
     "data": {
      "image/png": "[encoded data removed]",
      "text/plain": [
       "<Figure size 640x480 with 4 Axes>"
      ]
     },
     "metadata": {},
     "output_type": "display_data"
    }
   ],
   "source": [
    "# Plotting one sample for each output class\n",
    "for i in range(10):\n",
    "    sample = org_dataset[org_dataset['label'] == i].index[0]\n",
    "    ax0 = plt.subplot(1, 4, 1)\n",
    "    plt.title('Original')\n",
    "    plt.imshow(org_dataset.drop(['label'], axis=1).iloc[sample].values.reshape(28, 28), cmap='gray')\n",
    "\n",
    "    ax1 = plt.subplot(1, 4, 2)\n",
    "    plt.title('Missing')\n",
    "    plt.imshow(masked_dataset.iloc[sample].values.reshape(28, 28), cmap='gray')\n",
    "\n",
    "    ax2 = plt.subplot(1, 4, 3)\n",
    "    plt.title('PCN')\n",
    "    plt.imshow(pcn_samples.iloc[sample].values.reshape(28, 28), cmap='gray')\n",
    "\n",
    "    ax3 = plt.subplot(1, 4, 4)\n",
    "    plt.title('KNN')\n",
    "    plt.imshow(knn_samples.iloc[sample].values.reshape(28, 28), cmap='gray')\n",
    "\n",
    "    plt.subplots_adjust(wspace=0.5)\n",
    "    # plt.show()\n",
    "\n",
    "    # Saving the output to file\n",
    "    save_path = './experiments/inference/image/' + settings.dataset + '/reconstructed_' + str(i) + '.png'\n",
    "    plt.savefig(save_path, bbox_inches='tight')"
   ]
  },
  {
   "attachments": {},
   "cell_type": "markdown",
   "metadata": {},
   "source": [
    "## Analysis of average accuracy of agents trained on reconstructed dataset"
   ]
  },
  {
   "cell_type": "code",
   "execution_count": 88,
   "metadata": {},
   "outputs": [],
   "source": [
    "# Find mean accuracy on the control set\n",
    "control_df = pd.read_csv('./experiments/inference/results/' + settings.dataset + '/control_acc_test.csv', index_col=0)\n",
    "# acc_ann_control, acc_pcn_control = control_df.mean(axis=0).values\n",
    "acc_ann_control, acc_pcn_control, acc_ann_control_train, acc_pcn_control_train = control_df.mean(axis=0).values"
   ]
  },
  {
   "cell_type": "code",
   "execution_count": 89,
   "metadata": {},
   "outputs": [
    {
     "data": {
      "text/plain": [
       "array([[[0.5  , 0.922],\n",
       "        [0.5  , 0.925]],\n",
       "\n",
       "       [[0.5  , 0.917],\n",
       "        [0.5  , 0.922]],\n",
       "\n",
       "       [[0.5  , 0.914],\n",
       "        [0.5  , 0.908]],\n",
       "\n",
       "       [[0.5  , 0.925],\n",
       "        [0.5  , 0.914]],\n",
       "\n",
       "       [[0.5  , 0.933],\n",
       "        [0.5  , 0.931]]])"
      ]
     },
     "execution_count": 89,
     "metadata": {},
     "output_type": "execute_result"
    }
   ],
   "source": [
    "# Find accuracy on sparse dataset of knn and pcn reconstructed datasets for each sparsity\n",
    "test_accs_knn_ann = []\n",
    "test_accs_knn_pcn = []\n",
    "test_accs_pcn_ann = []\n",
    "test_accs_pcn_pcn = []\n",
    "train_accs_knn_ann = []\n",
    "train_accs_knn_pcn = []\n",
    "train_accs_pcn_ann = []\n",
    "train_accs_pcn_pcn = []\n",
    "\n",
    "test_accs = np.zeros((len(sparsity), 2, 2)) # Sparsity, PCN/KNN, PCN/ANN\n",
    "train_accs = np.zeros((len(sparsity), 2, 2)) # Sparsity, PCN/KNN, PCN/ANN\n",
    "\n",
    "TRAIN = 0\n",
    "TEST = 0\n",
    "PCN = 1\n",
    "KNN = 0\n",
    "ANN = 0\n",
    "\n",
    "for i, s in enumerate(sparsity):\n",
    "    knn_test_df = pd.read_csv('./experiments/inference/results/' + settings.dataset + '/knn_reconstructed/' + str(s) + 'acc_test.csv', index_col=0)\n",
    "    pcn_test_df = pd.read_csv('./experiments/inference/results/' + settings.dataset + '/pcn_reconstructed/' + str(s) + 'acc_test.csv', index_col=0)\n",
    "\n",
    "    knn_train_df = pd.read_csv('./experiments/inference/results/' + settings.dataset + '/knn_reconstructed/' + str(s) + 'acc_train.csv', index_col=0)\n",
    "    pcn_train_df = pd.read_csv('./experiments/inference/results/' + settings.dataset + '/pcn_reconstructed/' + str(s) + 'acc_train.csv', index_col=0)\n",
    "    \n",
    "    knn_ann_test, knn_pcn_test = knn_test_df.mean().values\n",
    "    pcn_ann_test, pcn_pcn_test = pcn_test_df.mean().values\n",
    "\n",
    "    knn_ann_train, knn_pcn_train = knn_train_df.mean().values\n",
    "    pcn_ann_train, pcn_pcn_train = pcn_train_df.mean().values\n",
    "\n",
    "    test_accs[i, PCN] = pcn_test_df.mean().values\n",
    "    test_accs[i, KNN] = knn_test_df.mean().values\n",
    "\n",
    "    train_accs[i, PCN] = pcn_train_df.mean().values\n",
    "    train_accs[i, KNN] = knn_train_df.mean().values\n",
    "\n",
    "test_accs\n"
   ]
  },
  {
   "cell_type": "code",
   "execution_count": 90,
   "metadata": {},
   "outputs": [
    {
     "data": {
      "text/plain": [
       "array([[-0.183, -0.011],\n",
       "       [-0.183, -0.013]])"
      ]
     },
     "execution_count": 90,
     "metadata": {},
     "output_type": "execute_result"
    }
   ],
   "source": [
    "# Improvements\n",
    "np.mean(test_accs, axis=0) - np.array([acc_ann_control, acc_pcn_control])"
   ]
  },
  {
   "cell_type": "code",
   "execution_count": 91,
   "metadata": {},
   "outputs": [
    {
     "data": {
      "text/plain": [
       "array([[-0.181, -0.011],\n",
       "       [-0.181, -0.012]])"
      ]
     },
     "execution_count": 91,
     "metadata": {},
     "output_type": "execute_result"
    }
   ],
   "source": [
    "# Importments on training set\n",
    "np.mean(train_accs, axis=0) - np.array([acc_ann_control_train, acc_pcn_control_train])"
   ]
  },
  {
   "cell_type": "code",
   "execution_count": null,
   "metadata": {},
   "outputs": [],
   "source": []
  },
  {
   "cell_type": "code",
   "execution_count": null,
   "metadata": {},
   "outputs": [],
   "source": []
  },
  {
   "cell_type": "code",
   "execution_count": null,
   "metadata": {},
   "outputs": [],
   "source": []
  }
 ],
 "metadata": {
  "kernelspec": {
   "display_name": "denv",
   "language": "python",
   "name": "python3"
  },
  "language_info": {
   "codemirror_mode": {
    "name": "ipython",
    "version": 3
   },
   "file_extension": ".py",
   "mimetype": "text/x-python",
   "name": "python",
   "nbconvert_exporter": "python",
   "pygments_lexer": "ipython3",
   "version": "3.11.1"
  },
  "orig_nbformat": 4
 },
 "nbformat": 4,
 "nbformat_minor": 2
}
